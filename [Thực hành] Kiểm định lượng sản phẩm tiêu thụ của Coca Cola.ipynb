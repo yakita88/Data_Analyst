{
 "cells": [
  {
   "cell_type": "code",
   "execution_count": 1,
   "metadata": {},
   "outputs": [],
   "source": [
    "import pandas as pd\n",
    "import matplotlib.pyplot as plt\n",
    "from scipy import stats"
   ]
  },
  {
   "cell_type": "code",
   "execution_count": 2,
   "metadata": {},
   "outputs": [
    {
     "name": "stdout",
     "output_type": "stream",
     "text": [
      "5 bản ghi đầu tiên của bộ dữ liệu \n",
      "     Ohio  Atlanta\n",
      "STT               \n",
      "1    0.88     3.85\n",
      "2    2.06     0.00\n",
      "3    0.00     0.00\n",
      "4    0.70     0.02\n",
      "5    1.64     0.58\n"
     ]
    }
   ],
   "source": [
    "df = pd.read_excel(\"Coca_cola_use.xlsx\", index_col= 'STT')\n",
    "print (\"5 bản ghi đầu tiên của bộ dữ liệu \")\n",
    "print (df.head())"
   ]
  },
  {
   "cell_type": "code",
   "execution_count": 3,
   "metadata": {},
   "outputs": [
    {
     "name": "stdout",
     "output_type": "stream",
     "text": [
      "thông tin bộ dữ liệu\n",
      "<class 'pandas.core.frame.DataFrame'>\n",
      "Int64Index: 50 entries, 1 to 50\n",
      "Data columns (total 2 columns):\n",
      " #   Column   Non-Null Count  Dtype  \n",
      "---  ------   --------------  -----  \n",
      " 0   Ohio     50 non-null     float64\n",
      " 1   Atlanta  50 non-null     float64\n",
      "dtypes: float64(2)\n",
      "memory usage: 1.2 KB\n",
      "None\n"
     ]
    }
   ],
   "source": [
    "print (\"thông tin bộ dữ liệu\")\n",
    "print (df.info())"
   ]
  },
  {
   "cell_type": "code",
   "execution_count": 4,
   "metadata": {},
   "outputs": [
    {
     "name": "stdout",
     "output_type": "stream",
     "text": [
      "mô tả bộ dữ liệu\n",
      "            Ohio    Atlanta\n",
      "count  50.000000  50.000000\n",
      "mean    1.746800   1.614800\n",
      "std     1.092211   1.061068\n",
      "min     0.000000   0.000000\n",
      "25%     0.835000   0.682500\n",
      "50%     1.615000   1.495000\n",
      "75%     2.350000   2.402500\n",
      "max     5.000000   3.860000\n"
     ]
    }
   ],
   "source": [
    "print (\"mô tả bộ dữ liệu\")\n",
    "print (df.describe())"
   ]
  },
  {
   "cell_type": "code",
   "execution_count": 5,
   "metadata": {},
   "outputs": [
    {
     "data": {
      "text/plain": [
       "<AxesSubplot:>"
      ]
     },
     "execution_count": 5,
     "metadata": {},
     "output_type": "execute_result"
    },
    {
     "data": {
      "image/png": "[encoded data removed]",
      "text/plain": [
       "<Figure size 640x480 with 1 Axes>"
      ]
     },
     "metadata": {},
     "output_type": "display_data"
    }
   ],
   "source": [
    "df.boxplot()"
   ]
  },
  {
   "cell_type": "code",
   "execution_count": 6,
   "metadata": {},
   "outputs": [
    {
     "name": "stdout",
     "output_type": "stream",
     "text": [
      "Ttest_indResult(statistic=0.6129544104328379, pvalue=0.5413275550760535)\n"
     ]
    }
   ],
   "source": [
    "print (stats.ttest_ind(df.Ohio, df.Atlanta,equal_var=False))"
   ]
  },
  {
   "cell_type": "code",
   "execution_count": null,
   "metadata": {},
   "outputs": [],
   "source": []
  }
 ],
 "metadata": {
  "kernelspec": {
   "display_name": "Python 3 (ipykernel)",
   "language": "python",
   "name": "python3"
  },
  "language_info": {
   "codemirror_mode": {
    "name": "ipython",
    "version": 3
   },
   "file_extension": ".py",
   "mimetype": "text/x-python",
   "name": "python",
   "nbconvert_exporter": "python",
   "pygments_lexer": "ipython3",
   "version": "3.9.13"
  },
  "vscode": {
   "interpreter": {
    "hash": "aee8b7b246df8f9039afb4144a1f6fd8d2ca17a180786b69acc140d282b71a49"
   }
  }
 },
 "nbformat": 4,
 "nbformat_minor": 2
}
