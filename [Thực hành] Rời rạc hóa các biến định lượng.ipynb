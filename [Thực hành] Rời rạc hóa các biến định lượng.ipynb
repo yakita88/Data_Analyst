{
 "cells": [
  {
   "cell_type": "code",
   "execution_count": 1,
   "id": "7b1112da",
   "metadata": {},
   "outputs": [],
   "source": [
    "import pandas as pd\n",
    "import numpy as np\n",
    "\n",
    "ages = [20, 22, 25, 27, 21, 23, 37, 31, 61, 45, 41, 32]\n",
    "\n",
    "# define the values of group\n",
    "bins = [18,25,35,60,100]\n",
    "# discrete the data\n",
    "cats = pd.cut(ages,bins)"
   ]
  },
  {
   "cell_type": "code",
   "execution_count": 2,
   "id": "c63d2c20",
   "metadata": {},
   "outputs": [
    {
     "data": {
      "text/plain": [
       "[(18, 25], (18, 25], (18, 25], (25, 35], (18, 25], ..., (25, 35], (60, 100], (35, 60], (35, 60], (25, 35]]\n",
       "Length: 12\n",
       "Categories (4, interval[int64, right]): [(18, 25] < (25, 35] < (35, 60] < (60, 100]]"
      ]
     },
     "execution_count": 2,
     "metadata": {},
     "output_type": "execute_result"
    }
   ],
   "source": [
    "cats"
   ]
  },
  {
   "cell_type": "code",
   "execution_count": 3,
   "id": "be25d57c",
   "metadata": {},
   "outputs": [
    {
     "data": {
      "text/plain": [
       "array([0, 0, 0, 1, 0, 0, 2, 1, 3, 2, 2, 1], dtype=int8)"
      ]
     },
     "execution_count": 3,
     "metadata": {},
     "output_type": "execute_result"
    }
   ],
   "source": [
    "# take out the index of group in accordance to values\n",
    "cats.codes"
   ]
  },
  {
   "cell_type": "code",
   "execution_count": 4,
   "id": "56b87775",
   "metadata": {},
   "outputs": [
    {
     "data": {
      "text/plain": [
       "IntervalIndex([(18, 25], (25, 35], (35, 60], (60, 100]], dtype='interval[int64, right]')"
      ]
     },
     "execution_count": 4,
     "metadata": {},
     "output_type": "execute_result"
    }
   ],
   "source": [
    "# take out the groups\n",
    "cats.categories"
   ]
  },
  {
   "cell_type": "code",
   "execution_count": 5,
   "id": "543c5205",
   "metadata": {},
   "outputs": [
    {
     "data": {
      "text/plain": [
       "(18, 25]     5\n",
       "(25, 35]     3\n",
       "(35, 60]     3\n",
       "(60, 100]    1\n",
       "dtype: int64"
      ]
     },
     "execution_count": 5,
     "metadata": {},
     "output_type": "execute_result"
    }
   ],
   "source": [
    "# check the number of values in each group\n",
    "pd.value_counts(cats)"
   ]
  },
  {
   "cell_type": "code",
   "execution_count": 6,
   "id": "e463aaa5",
   "metadata": {},
   "outputs": [
    {
     "data": {
      "text/plain": [
       "[[18, 25), [18, 25), [25, 35), [25, 35), [18, 25), ..., [25, 35), [60, 100), [35, 60), [35, 60), [25, 35)]\n",
       "Length: 12\n",
       "Categories (4, interval[int64, left]): [[18, 25) < [25, 35) < [35, 60) < [60, 100)]"
      ]
     },
     "execution_count": 6,
     "metadata": {},
     "output_type": "execute_result"
    }
   ],
   "source": [
    "pd.cut(ages,[18,25,35,60,100], right = False)"
   ]
  },
  {
   "cell_type": "code",
   "execution_count": 7,
   "id": "c3e3a0db",
   "metadata": {},
   "outputs": [
    {
     "data": {
      "text/plain": [
       "['Youth', 'Youth', 'Youth', 'YoungAdult', 'Youth', ..., 'YoungAdult', 'Senior', 'MiddleAged', 'MiddleAged', 'YoungAdult']\n",
       "Length: 12\n",
       "Categories (4, object): ['Youth' < 'YoungAdult' < 'MiddleAged' < 'Senior']"
      ]
     },
     "execution_count": 7,
     "metadata": {},
     "output_type": "execute_result"
    }
   ],
   "source": [
    "# label list\n",
    "group_names = [\"Youth\",\"YoungAdult\", \"MiddleAged\",\"Senior\"]\n",
    "pd.cut(ages,bins,labels = group_names)"
   ]
  },
  {
   "cell_type": "code",
   "execution_count": 8,
   "id": "3a372ad1",
   "metadata": {},
   "outputs": [
    {
     "data": {
      "text/plain": [
       "[(0.32, 0.54], (0.76, 0.98], (0.098, 0.32], (0.76, 0.98], (0.54, 0.76], ..., (0.76, 0.98], (0.32, 0.54], (0.54, 0.76], (0.098, 0.32], (0.54, 0.76]]\n",
       "Length: 20\n",
       "Categories (4, interval[float64, right]): [(0.098, 0.32] < (0.32, 0.54] < (0.54, 0.76] < (0.76, 0.98]]"
      ]
     },
     "execution_count": 8,
     "metadata": {},
     "output_type": "execute_result"
    }
   ],
   "source": [
    "# generate the random dato including 20 elements\n",
    "data = np.random.rand(20)\n",
    "\n",
    "cut_data = pd.cut(data,4,precision =2)\n",
    "cut_data"
   ]
  },
  {
   "cell_type": "code",
   "execution_count": 9,
   "id": "199e88a5",
   "metadata": {},
   "outputs": [
    {
     "data": {
      "text/plain": [
       "(0.54, 0.76]     7\n",
       "(0.76, 0.98]     7\n",
       "(0.098, 0.32]    4\n",
       "(0.32, 0.54]     2\n",
       "dtype: int64"
      ]
     },
     "execution_count": 9,
     "metadata": {},
     "output_type": "execute_result"
    }
   ],
   "source": [
    "pd.value_counts(cut_data)"
   ]
  },
  {
   "cell_type": "code",
   "execution_count": 10,
   "id": "f7dca0da",
   "metadata": {},
   "outputs": [],
   "source": [
    "# generate randomly the 1000 elements\n",
    "data = np.random.randn(1000)\n",
    "# qcut the data above\n",
    "cats = pd.qcut(data,4)"
   ]
  },
  {
   "cell_type": "code",
   "execution_count": 11,
   "id": "0ddfee85",
   "metadata": {},
   "outputs": [
    {
     "data": {
      "text/plain": [
       "[(0.665, 3.233], (0.665, 3.233], (-0.643, 0.00539], (0.665, 3.233], (0.00539, 0.665], ..., (0.665, 3.233], (0.00539, 0.665], (0.665, 3.233], (0.00539, 0.665], (0.665, 3.233]]\n",
       "Length: 1000\n",
       "Categories (4, interval[float64, right]): [(-3.9459999999999997, -0.643] < (-0.643, 0.00539] < (0.00539, 0.665] < (0.665, 3.233]]"
      ]
     },
     "execution_count": 11,
     "metadata": {},
     "output_type": "execute_result"
    }
   ],
   "source": [
    "cats"
   ]
  },
  {
   "cell_type": "code",
   "execution_count": 12,
   "id": "7529f1ba",
   "metadata": {},
   "outputs": [
    {
     "data": {
      "text/plain": [
       "(-3.9459999999999997, -0.643]    250\n",
       "(-0.643, 0.00539]                250\n",
       "(0.00539, 0.665]                 250\n",
       "(0.665, 3.233]                   250\n",
       "dtype: int64"
      ]
     },
     "execution_count": 12,
     "metadata": {},
     "output_type": "execute_result"
    }
   ],
   "source": [
    "pd.value_counts(cats)"
   ]
  },
  {
   "cell_type": "code",
   "execution_count": 14,
   "id": "c6a4b435",
   "metadata": {},
   "outputs": [
    {
     "data": {
      "text/plain": [
       "[(0.00539, 1.271], (1.271, 3.233], (-1.233, 0.00539], (0.00539, 1.271], (0.00539, 1.271], ..., (1.271, 3.233], (0.00539, 1.271], (0.00539, 1.271], (0.00539, 1.271], (1.271, 3.233]]\n",
       "Length: 1000\n",
       "Categories (4, interval[float64, right]): [(-3.9459999999999997, -1.233] < (-1.233, 0.00539] < (0.00539, 1.271] < (1.271, 3.233]]"
      ]
     },
     "execution_count": 14,
     "metadata": {},
     "output_type": "execute_result"
    }
   ],
   "source": [
    "pd.qcut(data, [0,0.1,0.5,0.9,1.])"
   ]
  },
  {
   "cell_type": "code",
   "execution_count": null,
   "id": "0bebb801",
   "metadata": {},
   "outputs": [],
   "source": []
  }
 ],
 "metadata": {
  "kernelspec": {
   "display_name": "Python 3 (ipykernel)",
   "language": "python",
   "name": "python3"
  },
  "language_info": {
   "codemirror_mode": {
    "name": "ipython",
    "version": 3
   },
   "file_extension": ".py",
   "mimetype": "text/x-python",
   "name": "python",
   "nbconvert_exporter": "python",
   "pygments_lexer": "ipython3",
   "version": "3.10.6"
  }
 },
 "nbformat": 4,
 "nbformat_minor": 5
}
